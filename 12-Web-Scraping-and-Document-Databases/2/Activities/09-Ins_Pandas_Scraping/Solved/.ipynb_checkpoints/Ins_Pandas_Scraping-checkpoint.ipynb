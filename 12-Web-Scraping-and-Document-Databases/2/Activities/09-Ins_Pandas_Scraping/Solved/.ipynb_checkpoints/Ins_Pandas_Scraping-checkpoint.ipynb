{
 "cells": [
  {
   "cell_type": "markdown",
   "metadata": {
    "slideshow": {
     "slide_type": "slide"
    }
   },
   "source": [
    "# Scraping with Pandas"
   ]
  },
  {
   "cell_type": "code",
   "execution_count": 1,
   "metadata": {
    "slideshow": {
     "slide_type": "slide"
    }
   },
   "outputs": [],
   "source": [
    "import pandas as pd"
   ]
  },
  {
   "cell_type": "markdown",
   "metadata": {
    "slideshow": {
     "slide_type": "subslide"
    }
   },
   "source": [
    "We can use the `read_html` function in Pandas to automatically scrape any tabular data from a page."
   ]
  },
  {
   "cell_type": "code",
   "execution_count": 2,
   "metadata": {
    "slideshow": {
     "slide_type": "fragment"
    }
   },
   "outputs": [],
   "source": [
    "url = 'https://en.wikipedia.org/wiki/List_of_capitals_in_the_United_States'"
   ]
  },
  {
   "cell_type": "code",
   "execution_count": 3,
   "metadata": {
    "slideshow": {
     "slide_type": "fragment"
    }
   },
   "outputs": [
    {
     "data": {
      "text/plain": [
       "[    0                                                  1\n",
       " 0 NaN  This section may require cleanup to meet Wikip...,\n",
       "              State Abr. State-hood         Capital Capital since Area (mi²)  \\\n",
       "              State Abr. State-hood         Capital Capital since Area (mi²)   \n",
       " 0          Alabama   AL       1819      Montgomery          1846     159.80   \n",
       " 1           Alaska   AK       1959          Juneau          1906    2716.70   \n",
       " 2          Arizona   AZ       1912         Phoenix          1889     517.60   \n",
       " 3         Arkansas   AR       1836     Little Rock          1821     116.20   \n",
       " 4       California   CA       1850      Sacramento          1854      97.90   \n",
       " 5         Colorado   CO       1876          Denver          1867     153.30   \n",
       " 6      Connecticut   CT       1788        Hartford          1875      17.30   \n",
       " 7         Delaware   DE       1787           Dover          1777      22.40   \n",
       " 8          Florida   FL       1845     Tallahassee          1824      95.70   \n",
       " 9          Georgia   GA       1788         Atlanta          1868     133.50   \n",
       " 10          Hawaii   HI       1959        Honolulu          1845      68.40   \n",
       " 11           Idaho   ID       1890           Boise          1865      63.80   \n",
       " 12        Illinois   IL       1818     Springfield          1837      54.00   \n",
       " 13         Indiana   IN       1816    Indianapolis          1825     361.50   \n",
       " 14            Iowa   IA       1846      Des Moines          1857      75.80   \n",
       " 15          Kansas   KS       1861          Topeka          1856      56.00   \n",
       " 16        Kentucky   KY       1792       Frankfort          1792      14.70   \n",
       " 17       Louisiana   LA       1812     Baton Rouge          1880      76.80   \n",
       " 18           Maine   ME       1820         Augusta          1832      55.40   \n",
       " 19        Maryland   MD       1788       Annapolis          1694       6.73   \n",
       " 20   Massachusetts   MA       1788          Boston          1630      89.60   \n",
       " 21        Michigan   MI       1837         Lansing          1847      35.00   \n",
       " 22       Minnesota   MN       1858      Saint Paul          1849      52.80   \n",
       " 23     Mississippi   MS       1817         Jackson          1821     104.90   \n",
       " 24        Missouri   MO       1821  Jefferson City          1826      27.30   \n",
       " 25         Montana   MT       1889          Helena          1875      14.00   \n",
       " 26        Nebraska   NE       1867         Lincoln          1867      74.60   \n",
       " 27          Nevada   NV       1864     Carson City          1861     143.40   \n",
       " 28   New Hampshire   NH       1788         Concord          1808      64.30   \n",
       " 29      New Jersey   NJ       1787         Trenton          1784       7.66   \n",
       " 30      New Mexico   NM       1912        Santa Fe          1610      37.30   \n",
       " 31        New York   NY       1788          Albany          1797      21.40   \n",
       " 32  North Carolina   NC       1789         Raleigh          1792     114.60   \n",
       " 33    North Dakota   ND       1889        Bismarck          1883      26.90   \n",
       " 34            Ohio   OH       1803        Columbus          1816     210.30   \n",
       " 35        Oklahoma   OK       1907   Oklahoma City          1910     620.30   \n",
       " 36          Oregon   OR       1859           Salem          1855      45.70   \n",
       " 37    Pennsylvania   PA       1787      Harrisburg          1812       8.11   \n",
       " 38    Rhode Island   RI       1790      Providence          1900      18.50   \n",
       " 39  South Carolina   SC       1788        Columbia          1786     125.20   \n",
       " 40    South Dakota   SD       1889          Pierre          1889      13.00   \n",
       " 41       Tennessee   TN       1796       Nashville          1826     525.90   \n",
       " 42           Texas   TX       1845          Austin          1839     305.10   \n",
       " 43            Utah   UT       1896  Salt Lake City          1858     109.10   \n",
       " 44         Vermont   VT       1791      Montpelier          1805      10.20   \n",
       " 45        Virginia   VA       1788        Richmond          1780      60.10   \n",
       " 46      Washington   WA       1889         Olympia          1853      16.70   \n",
       " 47   West Virginia   WV       1863      Charleston          1885      31.60   \n",
       " 48       Wisconsin   WI       1848         Madison          1838      68.70   \n",
       " 49         Wyoming   WY       1890        Cheyenne          1869      21.10   \n",
       " \n",
       "    Population (2018)                                        \\\n",
       "                 City Metropolitan Rank in state Rank in US   \n",
       " 0             198218     373903.0             2      119.0   \n",
       " 1              31275          NaN             3        NaN   \n",
       " 2            1660272    4857962.0             1        5.0   \n",
       " 3             193524     699757.0             1      117.0   \n",
       " 4             508529    2345210.0             6       35.0   \n",
       " 5             716492    2932415.0             1       19.0   \n",
       " 6             124775    1212381.0             3      199.0   \n",
       " 7              36047     162310.0             2        NaN   \n",
       " 8             181376     367413.0             7      125.0   \n",
       " 9             498044    5949951.0             1       37.0   \n",
       " 10            359870     953207.0             1       56.0   \n",
       " 11            205671     616561.0             1      103.0   \n",
       " 12            116250     210170.0             6      221.0   \n",
       " 13            867125    2004230.0             1       16.0   \n",
       " 14            203433     569633.0             1      105.0   \n",
       " 15            127473     230870.0             4      193.0   \n",
       " 16             25527      70758.0            14        NaN   \n",
       " 17            225374     830480.0             2       99.0   \n",
       " 18             19136     117114.0             8        NaN   \n",
       " 19             38394          NaN             7        NaN   \n",
       " 20            694583    4628910.0             1       21.0   \n",
       " 21            114297     464036.0             5      226.0   \n",
       " 22            285068    3348659.0             2       67.0   \n",
       " 23            173514     567122.0             1      134.0   \n",
       " 24             43079     149807.0            15        NaN   \n",
       " 25             28190      74801.0             6        NaN   \n",
       " 26            258379     302157.0             2       72.0   \n",
       " 27             55274          NaN             6        NaN   \n",
       " 28             42695     146445.0             3        NaN   \n",
       " 29             84913     366513.0            10        NaN   \n",
       " 30             75764     183732.0             4        NaN   \n",
       " 31             97856     857592.0             6        NaN   \n",
       " 32            403892    1130490.0             2       43.0   \n",
       " 33             61272     108779.0             2        NaN   \n",
       " 34            892553    2078725.0             1       14.0   \n",
       " 35            649021    1396445.0             1       27.0   \n",
       " 36            154637     390738.0             3      149.0   \n",
       " 37             49528     647390.0             9        NaN   \n",
       " 38            178042    1600852.0             1      130.0   \n",
       " 39            129272     767598.0             2      191.0   \n",
       " 40             13646          NaN             8        NaN   \n",
       " 41            691243    1903045.0             1       24.0   \n",
       " 42            964254    2168316.0             4       11.0   \n",
       " 43            186440    1087873.0             1      124.0   \n",
       " 44              7855          NaN             6        NaN   \n",
       " 45            204214    1208101.0             4      104.0   \n",
       " 46             46478     234670.0            24        NaN   \n",
       " 47             51400     304214.0             1        NaN   \n",
       " 48            258054     659726.0             2       81.0   \n",
       " 49             59466      91738.0             1        NaN   \n",
       " \n",
       "                                                 Notes  \n",
       "                                                 Notes  \n",
       " 0                                                 NaN  \n",
       " 1             Largest capital by municipal land area.  \n",
       " 2                      Largest capital by population.  \n",
       " 3                                                 NaN  \n",
       " 4                                                 NaN  \n",
       " 5                                                 NaN  \n",
       " 6                                                 NaN  \n",
       " 7      Longest-serving capital in terms of statehood.  \n",
       " 8                                                 NaN  \n",
       " 9    Largest capital by metropolitan area population.  \n",
       " 10                                                NaN  \n",
       " 11                                                NaN  \n",
       " 12                                                NaN  \n",
       " 13                                                NaN  \n",
       " 14                                                NaN  \n",
       " 15                                                NaN  \n",
       " 16                                                NaN  \n",
       " 17                                                NaN  \n",
       " 18                                                NaN  \n",
       " 19                     Smallest capital by land area.  \n",
       " 20              Longest continuously serving capital.  \n",
       " 21                                                NaN  \n",
       " 22                                                NaN  \n",
       " 23                                                NaN  \n",
       " 24                                                NaN  \n",
       " 25                                                NaN  \n",
       " 26                                                NaN  \n",
       " 27                                                NaN  \n",
       " 28                                                NaN  \n",
       " 29                                                NaN  \n",
       " 30                           Longest-serving capital.  \n",
       " 31                                                NaN  \n",
       " 32                                                NaN  \n",
       " 33                                                NaN  \n",
       " 34                                                NaN  \n",
       " 35            Shortest-serving current state capital.  \n",
       " 36                                                NaN  \n",
       " 37                                                NaN  \n",
       " 38                                                NaN  \n",
       " 39                                                NaN  \n",
       " 40                                                NaN  \n",
       " 41                                                NaN  \n",
       " 42  Largest capital by population to not be the mo...  \n",
       " 43                                                NaN  \n",
       " 44                    Smallest capital by population.  \n",
       " 45                                                NaN  \n",
       " 46                                                NaN  \n",
       " 47  Smallest capital by population to also be the ...  \n",
       " 48                                                NaN  \n",
       " 49                                                NaN  ,\n",
       "                Insular area Abr.  Date           Capital  Population (2010)  \\\n",
       " 0            American Samoa   AS  1899         Pago Pago               3656   \n",
       " 1                      Guam   GU  1898           Hagåtña               1051   \n",
       " 2  Northern Mariana Islands   MP  1947            Saipan              48220   \n",
       " 3               Puerto Rico   PR  1898          San Juan             395326   \n",
       " 4       U.S. Virgin Islands   VI  1917  Charlotte Amalie              18481   \n",
       " \n",
       "                                                Notes  \n",
       " 0  Pago Pago refers to both a village and a group...  \n",
       " 1              Dededo is the area's largest village.  \n",
       " 2                                                NaN  \n",
       " 3  The city of San Juan was originally called Pue...  \n",
       " 4                                                NaN  ,\n",
       "                               State        Capital  Date  \\\n",
       " 0      Alabama[17]Statehood in 1819    San Agustín  1565   \n",
       " 1      Alabama[17]Statehood in 1819       Savannah  1733   \n",
       " 2      Alabama[17]Statehood in 1819       Savannah  1755   \n",
       " 3      Alabama[17]Statehood in 1819       Savannah  1776   \n",
       " 4      Alabama[17]Statehood in 1819   Augusta (GA)  1778   \n",
       " ..                              ...            ...   ...   \n",
       " 468  Wisconsin[51]Statehood in 1848        Madison  1848   \n",
       " 469    Wyoming[52]Statehood in 1890  Lewiston (ID)  1863   \n",
       " 470    Wyoming[52]Statehood in 1890   Yankton (SD)  1864   \n",
       " 471    Wyoming[52]Statehood in 1890       Cheyenne  1869   \n",
       " 472    Wyoming[52]Statehood in 1890       Cheyenne  1890   \n",
       " \n",
       "                                                  Notes  \n",
       " 0     Capital of the Spanish colony of La Florida.[18]  \n",
       " 1    Capital of the British proprietary Colony of G...  \n",
       " 2          Capital of the British Province of Georgia.  \n",
       " 3                    Capitals of the State of Georgia.  \n",
       " 4                    Capitals of the State of Georgia.  \n",
       " ..                                                 ...  \n",
       " 468                 Capital of the State of Wisconsin.  \n",
       " 469                 Capital of the Territory of Idaho.  \n",
       " 470                Capital of the Territory of Dakota.  \n",
       " 471               Capital of the Territory of Wyoming.  \n",
       " 472                   Capital of the State of Wyoming.  \n",
       " \n",
       " [473 rows x 4 columns],\n",
       "     vteCapitals of the United States by jurisdiction  \\\n",
       " 0  Nation: US Washington States: AL Montgomery AK...   \n",
       " \n",
       "   vteCapitals of the United States by jurisdiction.1  \n",
       " 0  Nation: US Washington States: AL Montgomery AK...  ,\n",
       "                  vteUnited States state-related lists  \\\n",
       " 0   List of states and territories of the United S...   \n",
       " 1                                        Demographics   \n",
       " 2                                             Economy   \n",
       " 3                                         Environment   \n",
       " 4                                           Geography   \n",
       " 5                                          Government   \n",
       " 6                                              Health   \n",
       " 7                                             History   \n",
       " 8                                                 Law   \n",
       " 9                                       Miscellaneous   \n",
       " 10                         Category  Commons  Portals   \n",
       " \n",
       "                vteUnited States state-related lists.1  \n",
       " 0   List of states and territories of the United S...  \n",
       " 1   Population African American Amish Asian Birth ...  \n",
       " 2   Billionaires Budgets Companies Credit ratings ...  \n",
       " 3   Botanical gardens Carbon dioxide emissions Par...  \n",
       " 4   Area Bays Beaches Coastline Elevation Extreme ...  \n",
       " 5   Agriculture commissioners Attorneys general Ca...  \n",
       " 6   Fertility rates Hospitals Human Development In...  \n",
       " 7   Date of statehood Name etymologies Historical ...  \n",
       " 8   Abortion Age of consent Alcohol Dry communitie...  \n",
       " 9   Abbreviations Airports Bus transit systems Cas...  \n",
       " 10                         Category  Commons  Portals  ,\n",
       "   vteLocation of the capital of the United States  \\\n",
       " 0                              Temporary capitals   \n",
       " 1                               Permanent capital   \n",
       " \n",
       "    vteLocation of the capital of the United States.1  \n",
       " 0  Philadelphia (1776; 1777; 1778–1783; 1791–1800...  \n",
       " 1                      Washington, D.C. (since 1800)  ]"
      ]
     },
     "execution_count": 3,
     "metadata": {},
     "output_type": "execute_result"
    }
   ],
   "source": [
    "tables = pd.read_html(url)\n",
    "tables"
   ]
  },
  {
   "cell_type": "markdown",
   "metadata": {
    "slideshow": {
     "slide_type": "subslide"
    }
   },
   "source": [
    "What we get in return is a list of dataframes for any tabular data that Pandas found."
   ]
  },
  {
   "cell_type": "code",
   "execution_count": 4,
   "metadata": {
    "slideshow": {
     "slide_type": "fragment"
    }
   },
   "outputs": [
    {
     "data": {
      "text/plain": [
       "list"
      ]
     },
     "execution_count": 4,
     "metadata": {},
     "output_type": "execute_result"
    }
   ],
   "source": [
    "type(tables)"
   ]
  },
  {
   "cell_type": "markdown",
   "metadata": {
    "slideshow": {
     "slide_type": "subslide"
    }
   },
   "source": [
    "We can slice off any of those dataframes that we want using normal indexing."
   ]
  },
  {
   "cell_type": "code",
   "execution_count": 16,
   "metadata": {
    "slideshow": {
     "slide_type": "fragment"
    }
   },
   "outputs": [
    {
     "data": {
      "text/html": [
       "<div>\n",
       "<style scoped>\n",
       "    .dataframe tbody tr th:only-of-type {\n",
       "        vertical-align: middle;\n",
       "    }\n",
       "\n",
       "    .dataframe tbody tr th {\n",
       "        vertical-align: top;\n",
       "    }\n",
       "\n",
       "    .dataframe thead th {\n",
       "        text-align: right;\n",
       "    }\n",
       "</style>\n",
       "<table border=\"1\" class=\"dataframe\">\n",
       "  <thead>\n",
       "    <tr style=\"text-align: right;\">\n",
       "      <th></th>\n",
       "      <th>State</th>\n",
       "      <th>Abr.</th>\n",
       "      <th>State-hood Rank</th>\n",
       "      <th>Capital</th>\n",
       "      <th>Capital Since</th>\n",
       "      <th>Area (sq-mi)</th>\n",
       "      <th>Municipal Population</th>\n",
       "      <th>Metropolitan</th>\n",
       "      <th>Metropolitan Population</th>\n",
       "      <th>Population Rank</th>\n",
       "      <th>Notes</th>\n",
       "    </tr>\n",
       "  </thead>\n",
       "  <tbody>\n",
       "    <tr>\n",
       "      <th>0</th>\n",
       "      <td>Alabama</td>\n",
       "      <td>AL</td>\n",
       "      <td>1819</td>\n",
       "      <td>Montgomery</td>\n",
       "      <td>1846</td>\n",
       "      <td>159.8</td>\n",
       "      <td>198218</td>\n",
       "      <td>373903.0</td>\n",
       "      <td>2</td>\n",
       "      <td>119.0</td>\n",
       "      <td>NaN</td>\n",
       "    </tr>\n",
       "    <tr>\n",
       "      <th>1</th>\n",
       "      <td>Alaska</td>\n",
       "      <td>AK</td>\n",
       "      <td>1959</td>\n",
       "      <td>Juneau</td>\n",
       "      <td>1906</td>\n",
       "      <td>2716.7</td>\n",
       "      <td>31275</td>\n",
       "      <td>NaN</td>\n",
       "      <td>3</td>\n",
       "      <td>NaN</td>\n",
       "      <td>Largest capital by municipal land area.</td>\n",
       "    </tr>\n",
       "    <tr>\n",
       "      <th>2</th>\n",
       "      <td>Arizona</td>\n",
       "      <td>AZ</td>\n",
       "      <td>1912</td>\n",
       "      <td>Phoenix</td>\n",
       "      <td>1889</td>\n",
       "      <td>517.6</td>\n",
       "      <td>1660272</td>\n",
       "      <td>4857962.0</td>\n",
       "      <td>1</td>\n",
       "      <td>5.0</td>\n",
       "      <td>Largest capital by population.</td>\n",
       "    </tr>\n",
       "    <tr>\n",
       "      <th>3</th>\n",
       "      <td>Arkansas</td>\n",
       "      <td>AR</td>\n",
       "      <td>1836</td>\n",
       "      <td>Little Rock</td>\n",
       "      <td>1821</td>\n",
       "      <td>116.2</td>\n",
       "      <td>193524</td>\n",
       "      <td>699757.0</td>\n",
       "      <td>1</td>\n",
       "      <td>117.0</td>\n",
       "      <td>NaN</td>\n",
       "    </tr>\n",
       "    <tr>\n",
       "      <th>4</th>\n",
       "      <td>California</td>\n",
       "      <td>CA</td>\n",
       "      <td>1850</td>\n",
       "      <td>Sacramento</td>\n",
       "      <td>1854</td>\n",
       "      <td>97.9</td>\n",
       "      <td>508529</td>\n",
       "      <td>2345210.0</td>\n",
       "      <td>6</td>\n",
       "      <td>35.0</td>\n",
       "      <td>NaN</td>\n",
       "    </tr>\n",
       "  </tbody>\n",
       "</table>\n",
       "</div>"
      ],
      "text/plain": [
       "        State Abr.  State-hood Rank      Capital  Capital Since  Area (sq-mi)  \\\n",
       "0     Alabama   AL             1819   Montgomery           1846         159.8   \n",
       "1      Alaska   AK             1959       Juneau           1906        2716.7   \n",
       "2     Arizona   AZ             1912      Phoenix           1889         517.6   \n",
       "3    Arkansas   AR             1836  Little Rock           1821         116.2   \n",
       "4  California   CA             1850   Sacramento           1854          97.9   \n",
       "\n",
       "   Municipal Population  Metropolitan  Metropolitan Population  \\\n",
       "0                198218      373903.0                        2   \n",
       "1                 31275           NaN                        3   \n",
       "2               1660272     4857962.0                        1   \n",
       "3                193524      699757.0                        1   \n",
       "4                508529     2345210.0                        6   \n",
       "\n",
       "   Population Rank                                    Notes  \n",
       "0            119.0                                      NaN  \n",
       "1              NaN  Largest capital by municipal land area.  \n",
       "2              5.0           Largest capital by population.  \n",
       "3            117.0                                      NaN  \n",
       "4             35.0                                      NaN  "
      ]
     },
     "execution_count": 16,
     "metadata": {},
     "output_type": "execute_result"
    }
   ],
   "source": [
    "df = tables[1]\n",
    "df.columns = ['State', 'Abr.', 'State-hood Rank', 'Capital', \n",
    "              'Capital Since', 'Area (sq-mi)', 'Municipal Population', 'Metropolitan', \n",
    "              'Metropolitan Population', 'Population Rank', 'Notes']\n",
    "df.head()"
   ]
  },
  {
   "cell_type": "markdown",
   "metadata": {
    "slideshow": {
     "slide_type": "subslide"
    }
   },
   "source": [
    "Cleanup of extra rows"
   ]
  },
  {
   "cell_type": "code",
   "execution_count": 17,
   "metadata": {
    "slideshow": {
     "slide_type": "fragment"
    }
   },
   "outputs": [
    {
     "data": {
      "text/html": [
       "<div>\n",
       "<style scoped>\n",
       "    .dataframe tbody tr th:only-of-type {\n",
       "        vertical-align: middle;\n",
       "    }\n",
       "\n",
       "    .dataframe tbody tr th {\n",
       "        vertical-align: top;\n",
       "    }\n",
       "\n",
       "    .dataframe thead th {\n",
       "        text-align: right;\n",
       "    }\n",
       "</style>\n",
       "<table border=\"1\" class=\"dataframe\">\n",
       "  <thead>\n",
       "    <tr style=\"text-align: right;\">\n",
       "      <th></th>\n",
       "      <th>State</th>\n",
       "      <th>Abr.</th>\n",
       "      <th>State-hood Rank</th>\n",
       "      <th>Capital</th>\n",
       "      <th>Capital Since</th>\n",
       "      <th>Area (sq-mi)</th>\n",
       "      <th>Municipal Population</th>\n",
       "      <th>Metropolitan</th>\n",
       "      <th>Metropolitan Population</th>\n",
       "      <th>Population Rank</th>\n",
       "      <th>Notes</th>\n",
       "    </tr>\n",
       "  </thead>\n",
       "  <tbody>\n",
       "    <tr>\n",
       "      <th>0</th>\n",
       "      <td>Alabama</td>\n",
       "      <td>AL</td>\n",
       "      <td>1819</td>\n",
       "      <td>Montgomery</td>\n",
       "      <td>1846</td>\n",
       "      <td>159.8</td>\n",
       "      <td>198218</td>\n",
       "      <td>373903.0</td>\n",
       "      <td>2</td>\n",
       "      <td>119.0</td>\n",
       "      <td>NaN</td>\n",
       "    </tr>\n",
       "    <tr>\n",
       "      <th>1</th>\n",
       "      <td>Alaska</td>\n",
       "      <td>AK</td>\n",
       "      <td>1959</td>\n",
       "      <td>Juneau</td>\n",
       "      <td>1906</td>\n",
       "      <td>2716.7</td>\n",
       "      <td>31275</td>\n",
       "      <td>NaN</td>\n",
       "      <td>3</td>\n",
       "      <td>NaN</td>\n",
       "      <td>Largest capital by municipal land area.</td>\n",
       "    </tr>\n",
       "    <tr>\n",
       "      <th>2</th>\n",
       "      <td>Arizona</td>\n",
       "      <td>AZ</td>\n",
       "      <td>1912</td>\n",
       "      <td>Phoenix</td>\n",
       "      <td>1889</td>\n",
       "      <td>517.6</td>\n",
       "      <td>1660272</td>\n",
       "      <td>4857962.0</td>\n",
       "      <td>1</td>\n",
       "      <td>5.0</td>\n",
       "      <td>Largest capital by population.</td>\n",
       "    </tr>\n",
       "    <tr>\n",
       "      <th>3</th>\n",
       "      <td>Arkansas</td>\n",
       "      <td>AR</td>\n",
       "      <td>1836</td>\n",
       "      <td>Little Rock</td>\n",
       "      <td>1821</td>\n",
       "      <td>116.2</td>\n",
       "      <td>193524</td>\n",
       "      <td>699757.0</td>\n",
       "      <td>1</td>\n",
       "      <td>117.0</td>\n",
       "      <td>NaN</td>\n",
       "    </tr>\n",
       "    <tr>\n",
       "      <th>4</th>\n",
       "      <td>California</td>\n",
       "      <td>CA</td>\n",
       "      <td>1850</td>\n",
       "      <td>Sacramento</td>\n",
       "      <td>1854</td>\n",
       "      <td>97.9</td>\n",
       "      <td>508529</td>\n",
       "      <td>2345210.0</td>\n",
       "      <td>6</td>\n",
       "      <td>35.0</td>\n",
       "      <td>NaN</td>\n",
       "    </tr>\n",
       "  </tbody>\n",
       "</table>\n",
       "</div>"
      ],
      "text/plain": [
       "        State Abr.  State-hood Rank      Capital  Capital Since  Area (sq-mi)  \\\n",
       "0     Alabama   AL             1819   Montgomery           1846         159.8   \n",
       "1      Alaska   AK             1959       Juneau           1906        2716.7   \n",
       "2     Arizona   AZ             1912      Phoenix           1889         517.6   \n",
       "3    Arkansas   AR             1836  Little Rock           1821         116.2   \n",
       "4  California   CA             1850   Sacramento           1854          97.9   \n",
       "\n",
       "   Municipal Population  Metropolitan  Metropolitan Population  \\\n",
       "0                198218      373903.0                        2   \n",
       "1                 31275           NaN                        3   \n",
       "2               1660272     4857962.0                        1   \n",
       "3                193524      699757.0                        1   \n",
       "4                508529     2345210.0                        6   \n",
       "\n",
       "   Population Rank                                    Notes  \n",
       "0            119.0                                      NaN  \n",
       "1              NaN  Largest capital by municipal land area.  \n",
       "2              5.0           Largest capital by population.  \n",
       "3            117.0                                      NaN  \n",
       "4             35.0                                      NaN  "
      ]
     },
     "execution_count": 17,
     "metadata": {},
     "output_type": "execute_result"
    }
   ],
   "source": [
    "df = df.iloc[0:]\n",
    "df.head()"
   ]
  },
  {
   "cell_type": "markdown",
   "metadata": {
    "slideshow": {
     "slide_type": "subslide"
    }
   },
   "source": [
    "Set the index to the `State` column"
   ]
  },
  {
   "cell_type": "code",
   "execution_count": 18,
   "metadata": {
    "slideshow": {
     "slide_type": "fragment"
    }
   },
   "outputs": [
    {
     "data": {
      "text/html": [
       "<div>\n",
       "<style scoped>\n",
       "    .dataframe tbody tr th:only-of-type {\n",
       "        vertical-align: middle;\n",
       "    }\n",
       "\n",
       "    .dataframe tbody tr th {\n",
       "        vertical-align: top;\n",
       "    }\n",
       "\n",
       "    .dataframe thead th {\n",
       "        text-align: right;\n",
       "    }\n",
       "</style>\n",
       "<table border=\"1\" class=\"dataframe\">\n",
       "  <thead>\n",
       "    <tr style=\"text-align: right;\">\n",
       "      <th></th>\n",
       "      <th>Abr.</th>\n",
       "      <th>State-hood Rank</th>\n",
       "      <th>Capital</th>\n",
       "      <th>Capital Since</th>\n",
       "      <th>Area (sq-mi)</th>\n",
       "      <th>Municipal Population</th>\n",
       "      <th>Metropolitan</th>\n",
       "      <th>Metropolitan Population</th>\n",
       "      <th>Population Rank</th>\n",
       "      <th>Notes</th>\n",
       "    </tr>\n",
       "    <tr>\n",
       "      <th>State</th>\n",
       "      <th></th>\n",
       "      <th></th>\n",
       "      <th></th>\n",
       "      <th></th>\n",
       "      <th></th>\n",
       "      <th></th>\n",
       "      <th></th>\n",
       "      <th></th>\n",
       "      <th></th>\n",
       "      <th></th>\n",
       "    </tr>\n",
       "  </thead>\n",
       "  <tbody>\n",
       "    <tr>\n",
       "      <th>Alabama</th>\n",
       "      <td>AL</td>\n",
       "      <td>1819</td>\n",
       "      <td>Montgomery</td>\n",
       "      <td>1846</td>\n",
       "      <td>159.8</td>\n",
       "      <td>198218</td>\n",
       "      <td>373903.0</td>\n",
       "      <td>2</td>\n",
       "      <td>119.0</td>\n",
       "      <td>NaN</td>\n",
       "    </tr>\n",
       "    <tr>\n",
       "      <th>Alaska</th>\n",
       "      <td>AK</td>\n",
       "      <td>1959</td>\n",
       "      <td>Juneau</td>\n",
       "      <td>1906</td>\n",
       "      <td>2716.7</td>\n",
       "      <td>31275</td>\n",
       "      <td>NaN</td>\n",
       "      <td>3</td>\n",
       "      <td>NaN</td>\n",
       "      <td>Largest capital by municipal land area.</td>\n",
       "    </tr>\n",
       "    <tr>\n",
       "      <th>Arizona</th>\n",
       "      <td>AZ</td>\n",
       "      <td>1912</td>\n",
       "      <td>Phoenix</td>\n",
       "      <td>1889</td>\n",
       "      <td>517.6</td>\n",
       "      <td>1660272</td>\n",
       "      <td>4857962.0</td>\n",
       "      <td>1</td>\n",
       "      <td>5.0</td>\n",
       "      <td>Largest capital by population.</td>\n",
       "    </tr>\n",
       "    <tr>\n",
       "      <th>Arkansas</th>\n",
       "      <td>AR</td>\n",
       "      <td>1836</td>\n",
       "      <td>Little Rock</td>\n",
       "      <td>1821</td>\n",
       "      <td>116.2</td>\n",
       "      <td>193524</td>\n",
       "      <td>699757.0</td>\n",
       "      <td>1</td>\n",
       "      <td>117.0</td>\n",
       "      <td>NaN</td>\n",
       "    </tr>\n",
       "    <tr>\n",
       "      <th>California</th>\n",
       "      <td>CA</td>\n",
       "      <td>1850</td>\n",
       "      <td>Sacramento</td>\n",
       "      <td>1854</td>\n",
       "      <td>97.9</td>\n",
       "      <td>508529</td>\n",
       "      <td>2345210.0</td>\n",
       "      <td>6</td>\n",
       "      <td>35.0</td>\n",
       "      <td>NaN</td>\n",
       "    </tr>\n",
       "  </tbody>\n",
       "</table>\n",
       "</div>"
      ],
      "text/plain": [
       "           Abr.  State-hood Rank      Capital  Capital Since  Area (sq-mi)  \\\n",
       "State                                                                        \n",
       "Alabama      AL             1819   Montgomery           1846         159.8   \n",
       "Alaska       AK             1959       Juneau           1906        2716.7   \n",
       "Arizona      AZ             1912      Phoenix           1889         517.6   \n",
       "Arkansas     AR             1836  Little Rock           1821         116.2   \n",
       "California   CA             1850   Sacramento           1854          97.9   \n",
       "\n",
       "            Municipal Population  Metropolitan  Metropolitan Population  \\\n",
       "State                                                                     \n",
       "Alabama                   198218      373903.0                        2   \n",
       "Alaska                     31275           NaN                        3   \n",
       "Arizona                  1660272     4857962.0                        1   \n",
       "Arkansas                  193524      699757.0                        1   \n",
       "California                508529     2345210.0                        6   \n",
       "\n",
       "            Population Rank                                    Notes  \n",
       "State                                                                 \n",
       "Alabama               119.0                                      NaN  \n",
       "Alaska                  NaN  Largest capital by municipal land area.  \n",
       "Arizona                 5.0           Largest capital by population.  \n",
       "Arkansas              117.0                                      NaN  \n",
       "California             35.0                                      NaN  "
      ]
     },
     "execution_count": 18,
     "metadata": {},
     "output_type": "execute_result"
    }
   ],
   "source": [
    "df.set_index('State', inplace=True)\n",
    "df.head()"
   ]
  },
  {
   "cell_type": "code",
   "execution_count": 25,
   "metadata": {
    "slideshow": {
     "slide_type": "subslide"
    }
   },
   "outputs": [
    {
     "data": {
      "text/plain": [
       "Abr.                               AL\n",
       "State-hood Rank                  1819\n",
       "Capital                    Montgomery\n",
       "Capital Since                    1846\n",
       "Area (sq-mi)                    159.8\n",
       "Municipal Population           198218\n",
       "Metropolitan                   373903\n",
       "Metropolitan Population             2\n",
       "Population Rank                   119\n",
       "Notes                             NaN\n",
       "Name: Alabama, dtype: object"
      ]
     },
     "execution_count": 25,
     "metadata": {},
     "output_type": "execute_result"
    }
   ],
   "source": [
    "df.loc['Alabama']"
   ]
  },
  {
   "cell_type": "markdown",
   "metadata": {
    "slideshow": {
     "slide_type": "slide"
    }
   },
   "source": [
    "## DataFrames as HTML"
   ]
  },
  {
   "cell_type": "markdown",
   "metadata": {
    "slideshow": {
     "slide_type": "subslide"
    }
   },
   "source": [
    "Pandas also had a `to_html` method that we can use to generate HTML tables from DataFrames."
   ]
  },
  {
   "cell_type": "code",
   "execution_count": 26,
   "metadata": {
    "slideshow": {
     "slide_type": "fragment"
    }
   },
   "outputs": [
    {
     "data": {
      "text/plain": [
       "'<table border=\"1\" class=\"dataframe\">\\n  <thead>\\n    <tr style=\"text-align: right;\">\\n      <th></th>\\n      <th>Abr.</th>\\n      <th>State-hood Rank</th>\\n      <th>Capital</th>\\n      <th>Capital Since</th>\\n      <th>Area (sq-mi)</th>\\n      <th>Municipal Population</th>\\n      <th>Metropolitan</th>\\n      <th>Metropolitan Population</th>\\n      <th>Population Rank</th>\\n      <th>Notes</th>\\n    </tr>\\n    <tr>\\n      <th>State</th>\\n      <th></th>\\n      <th></th>\\n      <th></th>\\n      <th></th>\\n      <th></th>\\n      <th></th>\\n      <th></th>\\n      <th></th>\\n      <th></th>\\n      <th></th>\\n    </tr>\\n  </thead>\\n  <tbody>\\n    <tr>\\n      <th>Alabama</th>\\n      <td>AL</td>\\n      <td>1819</td>\\n      <td>Montgomery</td>\\n      <td>1846</td>\\n      <td>159.80</td>\\n      <td>198218</td>\\n      <td>373903.0</td>\\n      <td>2</td>\\n      <td>119.0</td>\\n      <td>NaN</td>\\n    </tr>\\n    <tr>\\n      <th>Alaska</th>\\n      <td>AK</td>\\n      <td>1959</td>\\n      <td>Juneau</td>\\n      <td>1906</td>\\n      <td>2716.70</td>\\n      <td>31275</td>\\n      <td>NaN</td>\\n      <td>3</td>\\n      <td>NaN</td>\\n      <td>Largest capital by municipal land area.</td>\\n    </tr>\\n    <tr>\\n      <th>Arizona</th>\\n      <td>AZ</td>\\n      <td>1912</td>\\n      <td>Phoenix</td>\\n      <td>1889</td>\\n      <td>517.60</td>\\n      <td>1660272</td>\\n      <td>4857962.0</td>\\n      <td>1</td>\\n      <td>5.0</td>\\n      <td>Largest capital by population.</td>\\n    </tr>\\n    <tr>\\n      <th>Arkansas</th>\\n      <td>AR</td>\\n      <td>1836</td>\\n      <td>Little Rock</td>\\n      <td>1821</td>\\n      <td>116.20</td>\\n      <td>193524</td>\\n      <td>699757.0</td>\\n      <td>1</td>\\n      <td>117.0</td>\\n      <td>NaN</td>\\n    </tr>\\n    <tr>\\n      <th>California</th>\\n      <td>CA</td>\\n      <td>1850</td>\\n      <td>Sacramento</td>\\n      <td>1854</td>\\n      <td>97.90</td>\\n      <td>508529</td>\\n      <td>2345210.0</td>\\n      <td>6</td>\\n      <td>35.0</td>\\n      <td>NaN</td>\\n    </tr>\\n    <tr>\\n      <th>Colorado</th>\\n      <td>CO</td>\\n      <td>1876</td>\\n      <td>Denver</td>\\n      <td>1867</td>\\n      <td>153.30</td>\\n      <td>716492</td>\\n      <td>2932415.0</td>\\n      <td>1</td>\\n      <td>19.0</td>\\n      <td>NaN</td>\\n    </tr>\\n    <tr>\\n      <th>Connecticut</th>\\n      <td>CT</td>\\n      <td>1788</td>\\n      <td>Hartford</td>\\n      <td>1875</td>\\n      <td>17.30</td>\\n      <td>124775</td>\\n      <td>1212381.0</td>\\n      <td>3</td>\\n      <td>199.0</td>\\n      <td>NaN</td>\\n    </tr>\\n    <tr>\\n      <th>Delaware</th>\\n      <td>DE</td>\\n      <td>1787</td>\\n      <td>Dover</td>\\n      <td>1777</td>\\n      <td>22.40</td>\\n      <td>36047</td>\\n      <td>162310.0</td>\\n      <td>2</td>\\n      <td>NaN</td>\\n      <td>Longest-serving capital in terms of statehood.</td>\\n    </tr>\\n    <tr>\\n      <th>Florida</th>\\n      <td>FL</td>\\n      <td>1845</td>\\n      <td>Tallahassee</td>\\n      <td>1824</td>\\n      <td>95.70</td>\\n      <td>181376</td>\\n      <td>367413.0</td>\\n      <td>7</td>\\n      <td>125.0</td>\\n      <td>NaN</td>\\n    </tr>\\n    <tr>\\n      <th>Georgia</th>\\n      <td>GA</td>\\n      <td>1788</td>\\n      <td>Atlanta</td>\\n      <td>1868</td>\\n      <td>133.50</td>\\n      <td>498044</td>\\n      <td>5949951.0</td>\\n      <td>1</td>\\n      <td>37.0</td>\\n      <td>Largest capital by metropolitan area population.</td>\\n    </tr>\\n    <tr>\\n      <th>Hawaii</th>\\n      <td>HI</td>\\n      <td>1959</td>\\n      <td>Honolulu</td>\\n      <td>1845</td>\\n      <td>68.40</td>\\n      <td>359870</td>\\n      <td>953207.0</td>\\n      <td>1</td>\\n      <td>56.0</td>\\n      <td>NaN</td>\\n    </tr>\\n    <tr>\\n      <th>Idaho</th>\\n      <td>ID</td>\\n      <td>1890</td>\\n      <td>Boise</td>\\n      <td>1865</td>\\n      <td>63.80</td>\\n      <td>205671</td>\\n      <td>616561.0</td>\\n      <td>1</td>\\n      <td>103.0</td>\\n      <td>NaN</td>\\n    </tr>\\n    <tr>\\n      <th>Illinois</th>\\n      <td>IL</td>\\n      <td>1818</td>\\n      <td>Springfield</td>\\n      <td>1837</td>\\n      <td>54.00</td>\\n      <td>116250</td>\\n      <td>210170.0</td>\\n      <td>6</td>\\n      <td>221.0</td>\\n      <td>NaN</td>\\n    </tr>\\n    <tr>\\n      <th>Indiana</th>\\n      <td>IN</td>\\n      <td>1816</td>\\n      <td>Indianapolis</td>\\n      <td>1825</td>\\n      <td>361.50</td>\\n      <td>867125</td>\\n      <td>2004230.0</td>\\n      <td>1</td>\\n      <td>16.0</td>\\n      <td>NaN</td>\\n    </tr>\\n    <tr>\\n      <th>Iowa</th>\\n      <td>IA</td>\\n      <td>1846</td>\\n      <td>Des Moines</td>\\n      <td>1857</td>\\n      <td>75.80</td>\\n      <td>203433</td>\\n      <td>569633.0</td>\\n      <td>1</td>\\n      <td>105.0</td>\\n      <td>NaN</td>\\n    </tr>\\n    <tr>\\n      <th>Kansas</th>\\n      <td>KS</td>\\n      <td>1861</td>\\n      <td>Topeka</td>\\n      <td>1856</td>\\n      <td>56.00</td>\\n      <td>127473</td>\\n      <td>230870.0</td>\\n      <td>4</td>\\n      <td>193.0</td>\\n      <td>NaN</td>\\n    </tr>\\n    <tr>\\n      <th>Kentucky</th>\\n      <td>KY</td>\\n      <td>1792</td>\\n      <td>Frankfort</td>\\n      <td>1792</td>\\n      <td>14.70</td>\\n      <td>25527</td>\\n      <td>70758.0</td>\\n      <td>14</td>\\n      <td>NaN</td>\\n      <td>NaN</td>\\n    </tr>\\n    <tr>\\n      <th>Louisiana</th>\\n      <td>LA</td>\\n      <td>1812</td>\\n      <td>Baton Rouge</td>\\n      <td>1880</td>\\n      <td>76.80</td>\\n      <td>225374</td>\\n      <td>830480.0</td>\\n      <td>2</td>\\n      <td>99.0</td>\\n      <td>NaN</td>\\n    </tr>\\n    <tr>\\n      <th>Maine</th>\\n      <td>ME</td>\\n      <td>1820</td>\\n      <td>Augusta</td>\\n      <td>1832</td>\\n      <td>55.40</td>\\n      <td>19136</td>\\n      <td>117114.0</td>\\n      <td>8</td>\\n      <td>NaN</td>\\n      <td>NaN</td>\\n    </tr>\\n    <tr>\\n      <th>Maryland</th>\\n      <td>MD</td>\\n      <td>1788</td>\\n      <td>Annapolis</td>\\n      <td>1694</td>\\n      <td>6.73</td>\\n      <td>38394</td>\\n      <td>NaN</td>\\n      <td>7</td>\\n      <td>NaN</td>\\n      <td>Smallest capital by land area.</td>\\n    </tr>\\n    <tr>\\n      <th>Massachusetts</th>\\n      <td>MA</td>\\n      <td>1788</td>\\n      <td>Boston</td>\\n      <td>1630</td>\\n      <td>89.60</td>\\n      <td>694583</td>\\n      <td>4628910.0</td>\\n      <td>1</td>\\n      <td>21.0</td>\\n      <td>Longest continuously serving capital.</td>\\n    </tr>\\n    <tr>\\n      <th>Michigan</th>\\n      <td>MI</td>\\n      <td>1837</td>\\n      <td>Lansing</td>\\n      <td>1847</td>\\n      <td>35.00</td>\\n      <td>114297</td>\\n      <td>464036.0</td>\\n      <td>5</td>\\n      <td>226.0</td>\\n      <td>NaN</td>\\n    </tr>\\n    <tr>\\n      <th>Minnesota</th>\\n      <td>MN</td>\\n      <td>1858</td>\\n      <td>Saint Paul</td>\\n      <td>1849</td>\\n      <td>52.80</td>\\n      <td>285068</td>\\n      <td>3348659.0</td>\\n      <td>2</td>\\n      <td>67.0</td>\\n      <td>NaN</td>\\n    </tr>\\n    <tr>\\n      <th>Mississippi</th>\\n      <td>MS</td>\\n      <td>1817</td>\\n      <td>Jackson</td>\\n      <td>1821</td>\\n      <td>104.90</td>\\n      <td>173514</td>\\n      <td>567122.0</td>\\n      <td>1</td>\\n      <td>134.0</td>\\n      <td>NaN</td>\\n    </tr>\\n    <tr>\\n      <th>Missouri</th>\\n      <td>MO</td>\\n      <td>1821</td>\\n      <td>Jefferson City</td>\\n      <td>1826</td>\\n      <td>27.30</td>\\n      <td>43079</td>\\n      <td>149807.0</td>\\n      <td>15</td>\\n      <td>NaN</td>\\n      <td>NaN</td>\\n    </tr>\\n    <tr>\\n      <th>Montana</th>\\n      <td>MT</td>\\n      <td>1889</td>\\n      <td>Helena</td>\\n      <td>1875</td>\\n      <td>14.00</td>\\n      <td>28190</td>\\n      <td>74801.0</td>\\n      <td>6</td>\\n      <td>NaN</td>\\n      <td>NaN</td>\\n    </tr>\\n    <tr>\\n      <th>Nebraska</th>\\n      <td>NE</td>\\n      <td>1867</td>\\n      <td>Lincoln</td>\\n      <td>1867</td>\\n      <td>74.60</td>\\n      <td>258379</td>\\n      <td>302157.0</td>\\n      <td>2</td>\\n      <td>72.0</td>\\n      <td>NaN</td>\\n    </tr>\\n    <tr>\\n      <th>Nevada</th>\\n      <td>NV</td>\\n      <td>1864</td>\\n      <td>Carson City</td>\\n      <td>1861</td>\\n      <td>143.40</td>\\n      <td>55274</td>\\n      <td>NaN</td>\\n      <td>6</td>\\n      <td>NaN</td>\\n      <td>NaN</td>\\n    </tr>\\n    <tr>\\n      <th>New Hampshire</th>\\n      <td>NH</td>\\n      <td>1788</td>\\n      <td>Concord</td>\\n      <td>1808</td>\\n      <td>64.30</td>\\n      <td>42695</td>\\n      <td>146445.0</td>\\n      <td>3</td>\\n      <td>NaN</td>\\n      <td>NaN</td>\\n    </tr>\\n    <tr>\\n      <th>New Jersey</th>\\n      <td>NJ</td>\\n      <td>1787</td>\\n      <td>Trenton</td>\\n      <td>1784</td>\\n      <td>7.66</td>\\n      <td>84913</td>\\n      <td>366513.0</td>\\n      <td>10</td>\\n      <td>NaN</td>\\n      <td>NaN</td>\\n    </tr>\\n    <tr>\\n      <th>New Mexico</th>\\n      <td>NM</td>\\n      <td>1912</td>\\n      <td>Santa Fe</td>\\n      <td>1610</td>\\n      <td>37.30</td>\\n      <td>75764</td>\\n      <td>183732.0</td>\\n      <td>4</td>\\n      <td>NaN</td>\\n      <td>Longest-serving capital.</td>\\n    </tr>\\n    <tr>\\n      <th>New York</th>\\n      <td>NY</td>\\n      <td>1788</td>\\n      <td>Albany</td>\\n      <td>1797</td>\\n      <td>21.40</td>\\n      <td>97856</td>\\n      <td>857592.0</td>\\n      <td>6</td>\\n      <td>NaN</td>\\n      <td>NaN</td>\\n    </tr>\\n    <tr>\\n      <th>North Carolina</th>\\n      <td>NC</td>\\n      <td>1789</td>\\n      <td>Raleigh</td>\\n      <td>1792</td>\\n      <td>114.60</td>\\n      <td>403892</td>\\n      <td>1130490.0</td>\\n      <td>2</td>\\n      <td>43.0</td>\\n      <td>NaN</td>\\n    </tr>\\n    <tr>\\n      <th>North Dakota</th>\\n      <td>ND</td>\\n      <td>1889</td>\\n      <td>Bismarck</td>\\n      <td>1883</td>\\n      <td>26.90</td>\\n      <td>61272</td>\\n      <td>108779.0</td>\\n      <td>2</td>\\n      <td>NaN</td>\\n      <td>NaN</td>\\n    </tr>\\n    <tr>\\n      <th>Ohio</th>\\n      <td>OH</td>\\n      <td>1803</td>\\n      <td>Columbus</td>\\n      <td>1816</td>\\n      <td>210.30</td>\\n      <td>892553</td>\\n      <td>2078725.0</td>\\n      <td>1</td>\\n      <td>14.0</td>\\n      <td>NaN</td>\\n    </tr>\\n    <tr>\\n      <th>Oklahoma</th>\\n      <td>OK</td>\\n      <td>1907</td>\\n      <td>Oklahoma City</td>\\n      <td>1910</td>\\n      <td>620.30</td>\\n      <td>649021</td>\\n      <td>1396445.0</td>\\n      <td>1</td>\\n      <td>27.0</td>\\n      <td>Shortest-serving current state capital.</td>\\n    </tr>\\n    <tr>\\n      <th>Oregon</th>\\n      <td>OR</td>\\n      <td>1859</td>\\n      <td>Salem</td>\\n      <td>1855</td>\\n      <td>45.70</td>\\n      <td>154637</td>\\n      <td>390738.0</td>\\n      <td>3</td>\\n      <td>149.0</td>\\n      <td>NaN</td>\\n    </tr>\\n    <tr>\\n      <th>Pennsylvania</th>\\n      <td>PA</td>\\n      <td>1787</td>\\n      <td>Harrisburg</td>\\n      <td>1812</td>\\n      <td>8.11</td>\\n      <td>49528</td>\\n      <td>647390.0</td>\\n      <td>9</td>\\n      <td>NaN</td>\\n      <td>NaN</td>\\n    </tr>\\n    <tr>\\n      <th>Rhode Island</th>\\n      <td>RI</td>\\n      <td>1790</td>\\n      <td>Providence</td>\\n      <td>1900</td>\\n      <td>18.50</td>\\n      <td>178042</td>\\n      <td>1600852.0</td>\\n      <td>1</td>\\n      <td>130.0</td>\\n      <td>NaN</td>\\n    </tr>\\n    <tr>\\n      <th>South Carolina</th>\\n      <td>SC</td>\\n      <td>1788</td>\\n      <td>Columbia</td>\\n      <td>1786</td>\\n      <td>125.20</td>\\n      <td>129272</td>\\n      <td>767598.0</td>\\n      <td>2</td>\\n      <td>191.0</td>\\n      <td>NaN</td>\\n    </tr>\\n    <tr>\\n      <th>South Dakota</th>\\n      <td>SD</td>\\n      <td>1889</td>\\n      <td>Pierre</td>\\n      <td>1889</td>\\n      <td>13.00</td>\\n      <td>13646</td>\\n      <td>NaN</td>\\n      <td>8</td>\\n      <td>NaN</td>\\n      <td>NaN</td>\\n    </tr>\\n    <tr>\\n      <th>Tennessee</th>\\n      <td>TN</td>\\n      <td>1796</td>\\n      <td>Nashville</td>\\n      <td>1826</td>\\n      <td>525.90</td>\\n      <td>691243</td>\\n      <td>1903045.0</td>\\n      <td>1</td>\\n      <td>24.0</td>\\n      <td>NaN</td>\\n    </tr>\\n    <tr>\\n      <th>Texas</th>\\n      <td>TX</td>\\n      <td>1845</td>\\n      <td>Austin</td>\\n      <td>1839</td>\\n      <td>305.10</td>\\n      <td>964254</td>\\n      <td>2168316.0</td>\\n      <td>4</td>\\n      <td>11.0</td>\\n      <td>Largest capital by population to not be the most populated city in its state.</td>\\n    </tr>\\n    <tr>\\n      <th>Utah</th>\\n      <td>UT</td>\\n      <td>1896</td>\\n      <td>Salt Lake City</td>\\n      <td>1858</td>\\n      <td>109.10</td>\\n      <td>186440</td>\\n      <td>1087873.0</td>\\n      <td>1</td>\\n      <td>124.0</td>\\n      <td>NaN</td>\\n    </tr>\\n    <tr>\\n      <th>Vermont</th>\\n      <td>VT</td>\\n      <td>1791</td>\\n      <td>Montpelier</td>\\n      <td>1805</td>\\n      <td>10.20</td>\\n      <td>7855</td>\\n      <td>NaN</td>\\n      <td>6</td>\\n      <td>NaN</td>\\n      <td>Smallest capital by population.</td>\\n    </tr>\\n    <tr>\\n      <th>Virginia</th>\\n      <td>VA</td>\\n      <td>1788</td>\\n      <td>Richmond</td>\\n      <td>1780</td>\\n      <td>60.10</td>\\n      <td>204214</td>\\n      <td>1208101.0</td>\\n      <td>4</td>\\n      <td>104.0</td>\\n      <td>NaN</td>\\n    </tr>\\n    <tr>\\n      <th>Washington</th>\\n      <td>WA</td>\\n      <td>1889</td>\\n      <td>Olympia</td>\\n      <td>1853</td>\\n      <td>16.70</td>\\n      <td>46478</td>\\n      <td>234670.0</td>\\n      <td>24</td>\\n      <td>NaN</td>\\n      <td>NaN</td>\\n    </tr>\\n    <tr>\\n      <th>West Virginia</th>\\n      <td>WV</td>\\n      <td>1863</td>\\n      <td>Charleston</td>\\n      <td>1885</td>\\n      <td>31.60</td>\\n      <td>51400</td>\\n      <td>304214.0</td>\\n      <td>1</td>\\n      <td>NaN</td>\\n      <td>Smallest capital by population to also be the most populated city in its state.</td>\\n    </tr>\\n    <tr>\\n      <th>Wisconsin</th>\\n      <td>WI</td>\\n      <td>1848</td>\\n      <td>Madison</td>\\n      <td>1838</td>\\n      <td>68.70</td>\\n      <td>258054</td>\\n      <td>659726.0</td>\\n      <td>2</td>\\n      <td>81.0</td>\\n      <td>NaN</td>\\n    </tr>\\n    <tr>\\n      <th>Wyoming</th>\\n      <td>WY</td>\\n      <td>1890</td>\\n      <td>Cheyenne</td>\\n      <td>1869</td>\\n      <td>21.10</td>\\n      <td>59466</td>\\n      <td>91738.0</td>\\n      <td>1</td>\\n      <td>NaN</td>\\n      <td>NaN</td>\\n    </tr>\\n  </tbody>\\n</table>'"
      ]
     },
     "execution_count": 26,
     "metadata": {},
     "output_type": "execute_result"
    }
   ],
   "source": [
    "html_table = df.to_html()\n",
    "html_table"
   ]
  },
  {
   "cell_type": "markdown",
   "metadata": {
    "slideshow": {
     "slide_type": "subslide"
    }
   },
   "source": [
    "You may have to strip unwanted newlines to clean up the table."
   ]
  },
  {
   "cell_type": "code",
   "execution_count": 22,
   "metadata": {
    "slideshow": {
     "slide_type": "fragment"
    }
   },
   "outputs": [
    {
     "data": {
      "text/plain": [
       "'<table border=\"1\" class=\"dataframe\">  <thead>    <tr style=\"text-align: right;\">      <th></th>      <th>Abr.</th>      <th>State-hood Rank</th>      <th>Capital</th>      <th>Capital Since</th>      <th>Area (sq-mi)</th>      <th>Municipal Population</th>      <th>Metropolitan</th>      <th>Metropolitan Population</th>      <th>Population Rank</th>      <th>Notes</th>    </tr>    <tr>      <th>State</th>      <th></th>      <th></th>      <th></th>      <th></th>      <th></th>      <th></th>      <th></th>      <th></th>      <th></th>      <th></th>    </tr>  </thead>  <tbody>    <tr>      <th>Alabama</th>      <td>AL</td>      <td>1819</td>      <td>Montgomery</td>      <td>1846</td>      <td>159.80</td>      <td>198218</td>      <td>373903.0</td>      <td>2</td>      <td>119.0</td>      <td>NaN</td>    </tr>    <tr>      <th>Alaska</th>      <td>AK</td>      <td>1959</td>      <td>Juneau</td>      <td>1906</td>      <td>2716.70</td>      <td>31275</td>      <td>NaN</td>      <td>3</td>      <td>NaN</td>      <td>Largest capital by municipal land area.</td>    </tr>    <tr>      <th>Arizona</th>      <td>AZ</td>      <td>1912</td>      <td>Phoenix</td>      <td>1889</td>      <td>517.60</td>      <td>1660272</td>      <td>4857962.0</td>      <td>1</td>      <td>5.0</td>      <td>Largest capital by population.</td>    </tr>    <tr>      <th>Arkansas</th>      <td>AR</td>      <td>1836</td>      <td>Little Rock</td>      <td>1821</td>      <td>116.20</td>      <td>193524</td>      <td>699757.0</td>      <td>1</td>      <td>117.0</td>      <td>NaN</td>    </tr>    <tr>      <th>California</th>      <td>CA</td>      <td>1850</td>      <td>Sacramento</td>      <td>1854</td>      <td>97.90</td>      <td>508529</td>      <td>2345210.0</td>      <td>6</td>      <td>35.0</td>      <td>NaN</td>    </tr>    <tr>      <th>Colorado</th>      <td>CO</td>      <td>1876</td>      <td>Denver</td>      <td>1867</td>      <td>153.30</td>      <td>716492</td>      <td>2932415.0</td>      <td>1</td>      <td>19.0</td>      <td>NaN</td>    </tr>    <tr>      <th>Connecticut</th>      <td>CT</td>      <td>1788</td>      <td>Hartford</td>      <td>1875</td>      <td>17.30</td>      <td>124775</td>      <td>1212381.0</td>      <td>3</td>      <td>199.0</td>      <td>NaN</td>    </tr>    <tr>      <th>Delaware</th>      <td>DE</td>      <td>1787</td>      <td>Dover</td>      <td>1777</td>      <td>22.40</td>      <td>36047</td>      <td>162310.0</td>      <td>2</td>      <td>NaN</td>      <td>Longest-serving capital in terms of statehood.</td>    </tr>    <tr>      <th>Florida</th>      <td>FL</td>      <td>1845</td>      <td>Tallahassee</td>      <td>1824</td>      <td>95.70</td>      <td>181376</td>      <td>367413.0</td>      <td>7</td>      <td>125.0</td>      <td>NaN</td>    </tr>    <tr>      <th>Georgia</th>      <td>GA</td>      <td>1788</td>      <td>Atlanta</td>      <td>1868</td>      <td>133.50</td>      <td>498044</td>      <td>5949951.0</td>      <td>1</td>      <td>37.0</td>      <td>Largest capital by metropolitan area population.</td>    </tr>    <tr>      <th>Hawaii</th>      <td>HI</td>      <td>1959</td>      <td>Honolulu</td>      <td>1845</td>      <td>68.40</td>      <td>359870</td>      <td>953207.0</td>      <td>1</td>      <td>56.0</td>      <td>NaN</td>    </tr>    <tr>      <th>Idaho</th>      <td>ID</td>      <td>1890</td>      <td>Boise</td>      <td>1865</td>      <td>63.80</td>      <td>205671</td>      <td>616561.0</td>      <td>1</td>      <td>103.0</td>      <td>NaN</td>    </tr>    <tr>      <th>Illinois</th>      <td>IL</td>      <td>1818</td>      <td>Springfield</td>      <td>1837</td>      <td>54.00</td>      <td>116250</td>      <td>210170.0</td>      <td>6</td>      <td>221.0</td>      <td>NaN</td>    </tr>    <tr>      <th>Indiana</th>      <td>IN</td>      <td>1816</td>      <td>Indianapolis</td>      <td>1825</td>      <td>361.50</td>      <td>867125</td>      <td>2004230.0</td>      <td>1</td>      <td>16.0</td>      <td>NaN</td>    </tr>    <tr>      <th>Iowa</th>      <td>IA</td>      <td>1846</td>      <td>Des Moines</td>      <td>1857</td>      <td>75.80</td>      <td>203433</td>      <td>569633.0</td>      <td>1</td>      <td>105.0</td>      <td>NaN</td>    </tr>    <tr>      <th>Kansas</th>      <td>KS</td>      <td>1861</td>      <td>Topeka</td>      <td>1856</td>      <td>56.00</td>      <td>127473</td>      <td>230870.0</td>      <td>4</td>      <td>193.0</td>      <td>NaN</td>    </tr>    <tr>      <th>Kentucky</th>      <td>KY</td>      <td>1792</td>      <td>Frankfort</td>      <td>1792</td>      <td>14.70</td>      <td>25527</td>      <td>70758.0</td>      <td>14</td>      <td>NaN</td>      <td>NaN</td>    </tr>    <tr>      <th>Louisiana</th>      <td>LA</td>      <td>1812</td>      <td>Baton Rouge</td>      <td>1880</td>      <td>76.80</td>      <td>225374</td>      <td>830480.0</td>      <td>2</td>      <td>99.0</td>      <td>NaN</td>    </tr>    <tr>      <th>Maine</th>      <td>ME</td>      <td>1820</td>      <td>Augusta</td>      <td>1832</td>      <td>55.40</td>      <td>19136</td>      <td>117114.0</td>      <td>8</td>      <td>NaN</td>      <td>NaN</td>    </tr>    <tr>      <th>Maryland</th>      <td>MD</td>      <td>1788</td>      <td>Annapolis</td>      <td>1694</td>      <td>6.73</td>      <td>38394</td>      <td>NaN</td>      <td>7</td>      <td>NaN</td>      <td>Smallest capital by land area.</td>    </tr>    <tr>      <th>Massachusetts</th>      <td>MA</td>      <td>1788</td>      <td>Boston</td>      <td>1630</td>      <td>89.60</td>      <td>694583</td>      <td>4628910.0</td>      <td>1</td>      <td>21.0</td>      <td>Longest continuously serving capital.</td>    </tr>    <tr>      <th>Michigan</th>      <td>MI</td>      <td>1837</td>      <td>Lansing</td>      <td>1847</td>      <td>35.00</td>      <td>114297</td>      <td>464036.0</td>      <td>5</td>      <td>226.0</td>      <td>NaN</td>    </tr>    <tr>      <th>Minnesota</th>      <td>MN</td>      <td>1858</td>      <td>Saint Paul</td>      <td>1849</td>      <td>52.80</td>      <td>285068</td>      <td>3348659.0</td>      <td>2</td>      <td>67.0</td>      <td>NaN</td>    </tr>    <tr>      <th>Mississippi</th>      <td>MS</td>      <td>1817</td>      <td>Jackson</td>      <td>1821</td>      <td>104.90</td>      <td>173514</td>      <td>567122.0</td>      <td>1</td>      <td>134.0</td>      <td>NaN</td>    </tr>    <tr>      <th>Missouri</th>      <td>MO</td>      <td>1821</td>      <td>Jefferson City</td>      <td>1826</td>      <td>27.30</td>      <td>43079</td>      <td>149807.0</td>      <td>15</td>      <td>NaN</td>      <td>NaN</td>    </tr>    <tr>      <th>Montana</th>      <td>MT</td>      <td>1889</td>      <td>Helena</td>      <td>1875</td>      <td>14.00</td>      <td>28190</td>      <td>74801.0</td>      <td>6</td>      <td>NaN</td>      <td>NaN</td>    </tr>    <tr>      <th>Nebraska</th>      <td>NE</td>      <td>1867</td>      <td>Lincoln</td>      <td>1867</td>      <td>74.60</td>      <td>258379</td>      <td>302157.0</td>      <td>2</td>      <td>72.0</td>      <td>NaN</td>    </tr>    <tr>      <th>Nevada</th>      <td>NV</td>      <td>1864</td>      <td>Carson City</td>      <td>1861</td>      <td>143.40</td>      <td>55274</td>      <td>NaN</td>      <td>6</td>      <td>NaN</td>      <td>NaN</td>    </tr>    <tr>      <th>New Hampshire</th>      <td>NH</td>      <td>1788</td>      <td>Concord</td>      <td>1808</td>      <td>64.30</td>      <td>42695</td>      <td>146445.0</td>      <td>3</td>      <td>NaN</td>      <td>NaN</td>    </tr>    <tr>      <th>New Jersey</th>      <td>NJ</td>      <td>1787</td>      <td>Trenton</td>      <td>1784</td>      <td>7.66</td>      <td>84913</td>      <td>366513.0</td>      <td>10</td>      <td>NaN</td>      <td>NaN</td>    </tr>    <tr>      <th>New Mexico</th>      <td>NM</td>      <td>1912</td>      <td>Santa Fe</td>      <td>1610</td>      <td>37.30</td>      <td>75764</td>      <td>183732.0</td>      <td>4</td>      <td>NaN</td>      <td>Longest-serving capital.</td>    </tr>    <tr>      <th>New York</th>      <td>NY</td>      <td>1788</td>      <td>Albany</td>      <td>1797</td>      <td>21.40</td>      <td>97856</td>      <td>857592.0</td>      <td>6</td>      <td>NaN</td>      <td>NaN</td>    </tr>    <tr>      <th>North Carolina</th>      <td>NC</td>      <td>1789</td>      <td>Raleigh</td>      <td>1792</td>      <td>114.60</td>      <td>403892</td>      <td>1130490.0</td>      <td>2</td>      <td>43.0</td>      <td>NaN</td>    </tr>    <tr>      <th>North Dakota</th>      <td>ND</td>      <td>1889</td>      <td>Bismarck</td>      <td>1883</td>      <td>26.90</td>      <td>61272</td>      <td>108779.0</td>      <td>2</td>      <td>NaN</td>      <td>NaN</td>    </tr>    <tr>      <th>Ohio</th>      <td>OH</td>      <td>1803</td>      <td>Columbus</td>      <td>1816</td>      <td>210.30</td>      <td>892553</td>      <td>2078725.0</td>      <td>1</td>      <td>14.0</td>      <td>NaN</td>    </tr>    <tr>      <th>Oklahoma</th>      <td>OK</td>      <td>1907</td>      <td>Oklahoma City</td>      <td>1910</td>      <td>620.30</td>      <td>649021</td>      <td>1396445.0</td>      <td>1</td>      <td>27.0</td>      <td>Shortest-serving current state capital.</td>    </tr>    <tr>      <th>Oregon</th>      <td>OR</td>      <td>1859</td>      <td>Salem</td>      <td>1855</td>      <td>45.70</td>      <td>154637</td>      <td>390738.0</td>      <td>3</td>      <td>149.0</td>      <td>NaN</td>    </tr>    <tr>      <th>Pennsylvania</th>      <td>PA</td>      <td>1787</td>      <td>Harrisburg</td>      <td>1812</td>      <td>8.11</td>      <td>49528</td>      <td>647390.0</td>      <td>9</td>      <td>NaN</td>      <td>NaN</td>    </tr>    <tr>      <th>Rhode Island</th>      <td>RI</td>      <td>1790</td>      <td>Providence</td>      <td>1900</td>      <td>18.50</td>      <td>178042</td>      <td>1600852.0</td>      <td>1</td>      <td>130.0</td>      <td>NaN</td>    </tr>    <tr>      <th>South Carolina</th>      <td>SC</td>      <td>1788</td>      <td>Columbia</td>      <td>1786</td>      <td>125.20</td>      <td>129272</td>      <td>767598.0</td>      <td>2</td>      <td>191.0</td>      <td>NaN</td>    </tr>    <tr>      <th>South Dakota</th>      <td>SD</td>      <td>1889</td>      <td>Pierre</td>      <td>1889</td>      <td>13.00</td>      <td>13646</td>      <td>NaN</td>      <td>8</td>      <td>NaN</td>      <td>NaN</td>    </tr>    <tr>      <th>Tennessee</th>      <td>TN</td>      <td>1796</td>      <td>Nashville</td>      <td>1826</td>      <td>525.90</td>      <td>691243</td>      <td>1903045.0</td>      <td>1</td>      <td>24.0</td>      <td>NaN</td>    </tr>    <tr>      <th>Texas</th>      <td>TX</td>      <td>1845</td>      <td>Austin</td>      <td>1839</td>      <td>305.10</td>      <td>964254</td>      <td>2168316.0</td>      <td>4</td>      <td>11.0</td>      <td>Largest capital by population to not be the most populated city in its state.</td>    </tr>    <tr>      <th>Utah</th>      <td>UT</td>      <td>1896</td>      <td>Salt Lake City</td>      <td>1858</td>      <td>109.10</td>      <td>186440</td>      <td>1087873.0</td>      <td>1</td>      <td>124.0</td>      <td>NaN</td>    </tr>    <tr>      <th>Vermont</th>      <td>VT</td>      <td>1791</td>      <td>Montpelier</td>      <td>1805</td>      <td>10.20</td>      <td>7855</td>      <td>NaN</td>      <td>6</td>      <td>NaN</td>      <td>Smallest capital by population.</td>    </tr>    <tr>      <th>Virginia</th>      <td>VA</td>      <td>1788</td>      <td>Richmond</td>      <td>1780</td>      <td>60.10</td>      <td>204214</td>      <td>1208101.0</td>      <td>4</td>      <td>104.0</td>      <td>NaN</td>    </tr>    <tr>      <th>Washington</th>      <td>WA</td>      <td>1889</td>      <td>Olympia</td>      <td>1853</td>      <td>16.70</td>      <td>46478</td>      <td>234670.0</td>      <td>24</td>      <td>NaN</td>      <td>NaN</td>    </tr>    <tr>      <th>West Virginia</th>      <td>WV</td>      <td>1863</td>      <td>Charleston</td>      <td>1885</td>      <td>31.60</td>      <td>51400</td>      <td>304214.0</td>      <td>1</td>      <td>NaN</td>      <td>Smallest capital by population to also be the most populated city in its state.</td>    </tr>    <tr>      <th>Wisconsin</th>      <td>WI</td>      <td>1848</td>      <td>Madison</td>      <td>1838</td>      <td>68.70</td>      <td>258054</td>      <td>659726.0</td>      <td>2</td>      <td>81.0</td>      <td>NaN</td>    </tr>    <tr>      <th>Wyoming</th>      <td>WY</td>      <td>1890</td>      <td>Cheyenne</td>      <td>1869</td>      <td>21.10</td>      <td>59466</td>      <td>91738.0</td>      <td>1</td>      <td>NaN</td>      <td>NaN</td>    </tr>  </tbody></table>'"
      ]
     },
     "execution_count": 22,
     "metadata": {},
     "output_type": "execute_result"
    }
   ],
   "source": []
  },
  {
   "cell_type": "markdown",
   "metadata": {
    "slideshow": {
     "slide_type": "subslide"
    }
   },
   "source": [
    "You can also save the table directly to a file."
   ]
  },
  {
   "cell_type": "code",
   "execution_count": 28,
   "metadata": {
    "slideshow": {
     "slide_type": "fragment"
    }
   },
   "outputs": [],
   "source": [
    "df.to_html('table.html')"
   ]
  },
  {
   "cell_type": "code",
   "execution_count": 12,
   "metadata": {
    "slideshow": {
     "slide_type": "fragment"
    }
   },
   "outputs": [
    {
     "name": "stdout",
     "output_type": "stream",
     "text": [
      "Couldn't get a file descriptor referring to the console\r\n"
     ]
    }
   ],
   "source": [
    "# OSX Users can run this to open the file in a browser, \n",
    "# or you can manually find the file and open it in the browser\n",
    "!open table.html"
   ]
  },
  {
   "cell_type": "code",
   "execution_count": null,
   "metadata": {},
   "outputs": [],
   "source": [
    "\n"
   ]
  },
  {
   "cell_type": "code",
   "execution_count": null,
   "metadata": {},
   "outputs": [],
   "source": []
  }
 ],
 "metadata": {
  "kernelspec": {
   "display_name": "Python 3",
   "language": "python",
   "name": "python3"
  },
  "language_info": {
   "codemirror_mode": {
    "name": "ipython",
    "version": 3
   },
   "file_extension": ".py",
   "mimetype": "text/x-python",
   "name": "python",
   "nbconvert_exporter": "python",
   "pygments_lexer": "ipython3",
   "version": "3.6.10"
  },
  "varInspector": {
   "cols": {
    "lenName": 16,
    "lenType": 16,
    "lenVar": 40
   },
   "kernels_config": {
    "python": {
     "delete_cmd_postfix": "",
     "delete_cmd_prefix": "del ",
     "library": "var_list.py",
     "varRefreshCmd": "print(var_dic_list())"
    },
    "r": {
     "delete_cmd_postfix": ") ",
     "delete_cmd_prefix": "rm(",
     "library": "var_list.r",
     "varRefreshCmd": "cat(var_dic_list()) "
    }
   },
   "types_to_exclude": [
    "module",
    "function",
    "builtin_function_or_method",
    "instance",
    "_Feature"
   ],
   "window_display": false
  }
 },
 "nbformat": 4,
 "nbformat_minor": 2
}
